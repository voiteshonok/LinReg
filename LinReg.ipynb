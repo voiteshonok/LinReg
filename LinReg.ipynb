{
 "cells": [
  {
   "cell_type": "code",
   "execution_count": 23,
   "id": "authentic-divide",
   "metadata": {},
   "outputs": [],
   "source": [
    "from sklearn.datasets import make_regression\n",
    "from matplotlib import pyplot\n",
    "import numpy as np\n",
    "import pandas as pd\n",
    "from sklearn.model_selection import train_test_split\n",
    "from sklearn.linear_model import LinearRegression\n",
    "from sklearn.metrics import mean_absolute_error\n",
    "\n",
    "# generate regression dataset\n",
    "X, y = make_regression(n_samples=1000, n_features=4, noise=10)\n",
    "\n",
    "X_train, X_test, y_train, y_test = train_test_split(X, y, test_size=0.33, random_state=42)\n",
    "\n",
    "pd.DataFrame(data = np.concatenate((X_train, np.array([y_train]).T), axis=1)).to_csv(\"train.csv\", index=None)\n",
    "pd.DataFrame(data = np.concatenate((X_test, np.array([y_test]).T), axis=1)).to_csv(\"test.csv\", index=None)"
   ]
  },
  {
   "cell_type": "code",
   "execution_count": 24,
   "id": "through-bronze",
   "metadata": {},
   "outputs": [],
   "source": [
    "reg = LinearRegression().fit(X_train, y_train)"
   ]
  },
  {
   "cell_type": "code",
   "execution_count": 25,
   "id": "signal-strand",
   "metadata": {},
   "outputs": [
    {
     "data": {
      "text/plain": [
       "7.968225245858235"
      ]
     },
     "execution_count": 25,
     "metadata": {},
     "output_type": "execute_result"
    }
   ],
   "source": [
    "mean_absolute_error(y_test, reg.predict(X_test))"
   ]
  },
  {
   "cell_type": "code",
   "execution_count": 26,
   "id": "chronic-membership",
   "metadata": {},
   "outputs": [],
   "source": [
    "class LinearRegression:\n",
    "    def __init__(self):\n",
    "        self.w = None\n",
    "        self.b = None\n",
    "        \n",
    "    @staticmethod\n",
    "    def loss(y_train, y_predicted):\n",
    "        return ((y_predicted - y_train)**2)\n",
    "        \n",
    "    @staticmethod\n",
    "    def sample_batch(X_train, y_train, batch_size=None):\n",
    "        if not batch_size is None:\n",
    "            rand_idx = np.random.permutation(X_train.shape[0])[:batch_size]\n",
    "            X, y = X_train[rand_idx, ...], y_train[rand_idx, ...]\n",
    "        else:\n",
    "            X, y = X_train, y_train\n",
    "        return X, y\n",
    "        \n",
    "    def fit(self, x, y, iters=100, lr_base=0.1, batch_size=None):\n",
    "        self.N = x.shape[0]\n",
    "        self.D = x.shape[1]\n",
    "        self.O = y.shape[1]\n",
    "        if  self.w is None or self.b is None or \\\n",
    "            self.w.shape != (self.D, self.O) or self.b.shape != (1., self.O):\n",
    "\n",
    "            self.__init_weights()\n",
    "            \n",
    "        for i in range(iters):\n",
    "            #sample data\n",
    "            X_train, y_train = self.sample_batch(x, y, batch_size)\n",
    "            \n",
    "            # forward pass\n",
    "            y_predicted = self.predict(X_train)\n",
    "            loss = self.loss(y, y_predicted).mean()\n",
    "\n",
    "            # backward pass\n",
    "            dz = y_predicted - y_train\n",
    "            dw = X_train.T.dot(dz) / X_train.shape[0]\n",
    "            db = dz.mean(axis=0)\n",
    "\n",
    "            # update params\n",
    "            lr = lr_base / ((i + 10) // 10)\n",
    "            self.w -= lr * dw\n",
    "            self.b -= lr * db\n",
    "            \n",
    "            # log\n",
    "            if (i + 1) % 10 == 0:\n",
    "                print(\"iter: {}, loss: {:5.3f}\".format(i + 1, ((self.predict(X_train) - y_train)**2).mean()))\n",
    "            \n",
    "        return self\n",
    "    \n",
    "    def __init_weights(self):\n",
    "        self.w = np.random.uniform(0, 0.01, size=(self.D, self.O))\n",
    "        self.b = np.ones(shape=(1, self.O)) / 100\n",
    "    \n",
    "    def predict(self, x):\n",
    "        return x.dot(self.w) + self.b"
   ]
  },
  {
   "cell_type": "code",
   "execution_count": 27,
   "id": "naughty-commons",
   "metadata": {},
   "outputs": [
    {
     "name": "stdout",
     "output_type": "stream",
     "text": [
      "iter: 10, loss: 2144.086\n",
      "iter: 20, loss: 778.931\n",
      "iter: 30, loss: 400.857\n",
      "iter: 40, loss: 244.717\n",
      "iter: 50, loss: 165.328\n",
      "iter: 60, loss: 119.437\n",
      "iter: 70, loss: 90.490\n",
      "iter: 80, loss: 71.038\n",
      "iter: 90, loss: 57.324\n",
      "iter: 100, loss: 47.284\n",
      "iter: 110, loss: 39.707\n",
      "iter: 120, loss: 33.844\n",
      "iter: 130, loss: 29.212\n",
      "iter: 140, loss: 25.486\n",
      "iter: 150, loss: 22.443\n",
      "iter: 160, loss: 19.924\n",
      "iter: 170, loss: 17.816\n",
      "iter: 180, loss: 16.031\n",
      "iter: 190, loss: 14.508\n",
      "iter: 200, loss: 13.196\n",
      "iter: 210, loss: 12.059\n",
      "iter: 220, loss: 11.066\n",
      "iter: 230, loss: 10.193\n",
      "iter: 240, loss: 9.422\n",
      "iter: 250, loss: 8.737\n",
      "iter: 260, loss: 8.126\n",
      "iter: 270, loss: 7.579\n",
      "iter: 280, loss: 7.087\n",
      "iter: 290, loss: 6.642\n",
      "iter: 300, loss: 6.239\n",
      "iter: 310, loss: 5.872\n",
      "iter: 320, loss: 5.538\n",
      "iter: 330, loss: 5.232\n",
      "iter: 340, loss: 4.951\n",
      "iter: 350, loss: 4.693\n",
      "iter: 360, loss: 4.456\n",
      "iter: 370, loss: 4.236\n",
      "iter: 380, loss: 4.033\n",
      "iter: 390, loss: 3.844\n",
      "iter: 400, loss: 3.669\n",
      "iter: 410, loss: 3.505\n",
      "iter: 420, loss: 3.353\n",
      "iter: 430, loss: 3.211\n",
      "iter: 440, loss: 3.077\n",
      "iter: 450, loss: 2.953\n",
      "iter: 460, loss: 2.836\n",
      "iter: 470, loss: 2.725\n",
      "iter: 480, loss: 2.622\n",
      "iter: 490, loss: 2.524\n",
      "iter: 500, loss: 2.432\n",
      "iter: 510, loss: 2.345\n",
      "iter: 520, loss: 2.263\n",
      "iter: 530, loss: 2.185\n",
      "iter: 540, loss: 2.111\n",
      "iter: 550, loss: 2.041\n",
      "iter: 560, loss: 1.974\n",
      "iter: 570, loss: 1.911\n",
      "iter: 580, loss: 1.851\n",
      "iter: 590, loss: 1.794\n",
      "iter: 600, loss: 1.739\n",
      "iter: 610, loss: 1.687\n",
      "iter: 620, loss: 1.638\n",
      "iter: 630, loss: 1.590\n",
      "iter: 640, loss: 1.545\n",
      "iter: 650, loss: 1.502\n",
      "iter: 660, loss: 1.460\n",
      "iter: 670, loss: 1.420\n",
      "iter: 680, loss: 1.382\n",
      "iter: 690, loss: 1.346\n",
      "iter: 700, loss: 1.311\n",
      "iter: 710, loss: 1.277\n",
      "iter: 720, loss: 1.245\n",
      "iter: 730, loss: 1.214\n",
      "iter: 740, loss: 1.184\n",
      "iter: 750, loss: 1.155\n",
      "iter: 760, loss: 1.127\n",
      "iter: 770, loss: 1.101\n",
      "iter: 780, loss: 1.075\n",
      "iter: 790, loss: 1.050\n",
      "iter: 800, loss: 1.026\n",
      "iter: 810, loss: 1.003\n",
      "iter: 820, loss: 0.981\n",
      "iter: 830, loss: 0.959\n",
      "iter: 840, loss: 0.939\n",
      "iter: 850, loss: 0.918\n",
      "iter: 860, loss: 0.899\n",
      "iter: 870, loss: 0.880\n",
      "iter: 880, loss: 0.862\n",
      "iter: 890, loss: 0.844\n",
      "iter: 900, loss: 0.827\n",
      "iter: 910, loss: 0.811\n",
      "iter: 920, loss: 0.795\n",
      "iter: 930, loss: 0.779\n",
      "iter: 940, loss: 0.764\n",
      "iter: 950, loss: 0.750\n",
      "iter: 960, loss: 0.735\n",
      "iter: 970, loss: 0.722\n",
      "iter: 980, loss: 0.708\n",
      "iter: 990, loss: 0.695\n",
      "iter: 1000, loss: 0.682\n"
     ]
    }
   ],
   "source": [
    "reg = LinearRegression().fit(X_train, y_train.reshape(1, -1), iters=1000)"
   ]
  },
  {
   "cell_type": "code",
   "execution_count": 28,
   "id": "directed-monte",
   "metadata": {},
   "outputs": [
    {
     "data": {
      "text/plain": [
       "104.22582092194588"
      ]
     },
     "execution_count": 28,
     "metadata": {},
     "output_type": "execute_result"
    }
   ],
   "source": [
    "mean_absolute_error(reg.predict(X_test)[:, 0], y_test)"
   ]
  },
  {
   "cell_type": "code",
   "execution_count": null,
   "id": "common-castle",
   "metadata": {},
   "outputs": [],
   "source": []
  }
 ],
 "metadata": {
  "kernelspec": {
   "display_name": "Python 3",
   "language": "python",
   "name": "python3"
  },
  "language_info": {
   "codemirror_mode": {
    "name": "ipython",
    "version": 3
   },
   "file_extension": ".py",
   "mimetype": "text/x-python",
   "name": "python",
   "nbconvert_exporter": "python",
   "pygments_lexer": "ipython3",
   "version": "3.9.1"
  }
 },
 "nbformat": 4,
 "nbformat_minor": 5
}
