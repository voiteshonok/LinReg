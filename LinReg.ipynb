{
 "cells": [
  {
   "cell_type": "code",
   "execution_count": 1,
   "id": "weekly-hours",
   "metadata": {},
   "outputs": [],
   "source": [
    "from sklearn.datasets import make_regression\n",
    "from matplotlib import pyplot\n",
    "import numpy as np\n",
    "import pandas as pd\n",
    "from sklearn.model_selection import train_test_split\n",
    "from sklearn.linear_model import LinearRegression\n",
    "from sklearn.metrics import mean_absolute_error\n",
    "\n",
    "# generate regression dataset\n",
    "X, y = make_regression(n_samples=1000, n_features=4, noise=10)\n",
    "\n",
    "X_train, X_test, y_train, y_test = train_test_split(X, y, test_size=0.33, random_state=42)\n",
    "\n",
    "pd.DataFrame(data = np.concatenate((X_train, np.array([y_train]).T), axis=1)).to_csv(\"train.csv\", index=None)\n",
    "pd.DataFrame(data = np.concatenate((X_test, np.array([y_test]).T), axis=1)).to_csv(\"test.csv\", index=None)"
   ]
  },
  {
   "cell_type": "code",
   "execution_count": 2,
   "id": "trying-thomson",
   "metadata": {},
   "outputs": [],
   "source": [
    "reg = LinearRegression().fit(X_train, y_train)"
   ]
  },
  {
   "cell_type": "code",
   "execution_count": 3,
   "id": "liable-syndication",
   "metadata": {},
   "outputs": [
    {
     "data": {
      "text/plain": [
       "7.748804690163286"
      ]
     },
     "execution_count": 3,
     "metadata": {},
     "output_type": "execute_result"
    }
   ],
   "source": [
    "mean_absolute_error(y_test, reg.predict(X_test))"
   ]
  },
  {
   "cell_type": "code",
   "execution_count": 4,
   "id": "sticky-fraction",
   "metadata": {},
   "outputs": [],
   "source": [
    "class LinearRegression:\n",
    "    def __init__(self):\n",
    "        self.w = None\n",
    "        self.b = None\n",
    "        \n",
    "    @staticmethod\n",
    "    def loss(y_train, y_predicted):\n",
    "        return ((y_predicted - y_train)**2)\n",
    "        \n",
    "    @staticmethod\n",
    "    def sample_batch(X_train, y_train, batch_size=None):\n",
    "        if not batch_size is None:\n",
    "            rand_idx = np.random.permutation(X_train.shape[0])[:batch_size]\n",
    "            X, y = X_train[rand_idx, ...], y_train[rand_idx, ...]\n",
    "        else:\n",
    "            X, y = X_train, y_train\n",
    "        return X, y\n",
    "        \n",
    "    def fit(self, x, y, iters=100, lr_base=0.1, batch_size=None):\n",
    "        self.N = x.shape[0]\n",
    "        self.D = x.shape[1]\n",
    "        self.O = y.shape[1]\n",
    "        if  self.w is None or self.b is None or \\\n",
    "            self.w.shape != (self.D, self.O) or self.b.shape != (1., self.O):\n",
    "\n",
    "            self.__init_weights()\n",
    "            \n",
    "        for i in range(iters):\n",
    "            #sample data\n",
    "            X_train, y_train = self.sample_batch(x, y, batch_size)\n",
    "            \n",
    "            # forward pass\n",
    "            y_predicted = self.predict(X_train)\n",
    "            loss = self.loss(y, y_predicted).mean()\n",
    "\n",
    "            # backward pass\n",
    "            dz = y_predicted - y_train\n",
    "            dw = X_train.T.dot(dz) / X_train.shape[0]\n",
    "            db = dz.mean(axis=0)\n",
    "\n",
    "            # update params\n",
    "            lr = lr_base / ((i + 10) // 10)\n",
    "            self.w -= lr * dw\n",
    "            self.b -= lr * db\n",
    "            \n",
    "            # log\n",
    "            if (i + 1) % 100 == 0:\n",
    "                print(\"iter: {}, loss: {:5.3f}\".format(i + 1, ((self.predict(X_train) - y_train)**2).mean()))\n",
    "            \n",
    "        return self\n",
    "    \n",
    "    def __init_weights(self):\n",
    "        self.w = np.random.uniform(0, 0.01, size=(self.D, self.O))\n",
    "        self.b = np.ones(shape=(1, self.O)) / 100\n",
    "    \n",
    "    def predict(self, x):\n",
    "        return x.dot(self.w) + self.b"
   ]
  },
  {
   "cell_type": "code",
   "execution_count": 5,
   "id": "roman-wells",
   "metadata": {},
   "outputs": [
    {
     "name": "stdout",
     "output_type": "stream",
     "text": [
      "iter: 100, loss: 34.702\n",
      "iter: 200, loss: 9.430\n",
      "iter: 300, loss: 4.374\n",
      "iter: 400, loss: 2.534\n",
      "iter: 500, loss: 1.659\n",
      "iter: 600, loss: 1.174\n",
      "iter: 700, loss: 0.877\n",
      "iter: 800, loss: 0.681\n",
      "iter: 900, loss: 0.545\n",
      "iter: 1000, loss: 0.446\n"
     ]
    }
   ],
   "source": [
    "reg = LinearRegression().fit(X_train, y_train.reshape(1, -1), iters=1000)"
   ]
  },
  {
   "cell_type": "code",
   "execution_count": 6,
   "id": "solar-maximum",
   "metadata": {},
   "outputs": [
    {
     "data": {
      "text/plain": [
       "153.1196770473175"
      ]
     },
     "execution_count": 6,
     "metadata": {},
     "output_type": "execute_result"
    }
   ],
   "source": [
    "mean_absolute_error(reg.predict(X_test)[:, 0], y_test)"
   ]
  },
  {
   "cell_type": "code",
   "execution_count": null,
   "id": "gentle-consultancy",
   "metadata": {},
   "outputs": [],
   "source": []
  }
 ],
 "metadata": {
  "kernelspec": {
   "display_name": "Python 3",
   "language": "python",
   "name": "python3"
  },
  "language_info": {
   "codemirror_mode": {
    "name": "ipython",
    "version": 3
   },
   "file_extension": ".py",
   "mimetype": "text/x-python",
   "name": "python",
   "nbconvert_exporter": "python",
   "pygments_lexer": "ipython3",
   "version": "3.9.1"
  }
 },
 "nbformat": 4,
 "nbformat_minor": 5
}
